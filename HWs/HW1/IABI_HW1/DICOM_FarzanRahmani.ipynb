{
  "cells": [
    {
      "cell_type": "markdown",
      "metadata": {
        "id": "wg_8PkOzPJCj"
      },
      "source": [
        "<div dir=ltr align=center>In the name of God</div>\n",
        "<br>\n",
        "<font size=6><div dir=ltr align=center>\n",
        "<font size=5>\n",
        "Intelligent Analysis of\n",
        "Biomedical Images\n",
        "<br>\n",
        "<font size=4>\n",
        "Sharif University of Technology, CE Department\n",
        "</font>\n",
        "<br>\n",
        "<br>\n",
        "<font size=6>\n",
        "Homework 1\n",
        "</font><br>\n",
        "<font size=4>\n",
        "DICOM\n",
        "</font>"
      ]
    },
    {
      "cell_type": "markdown",
      "metadata": {
        "id": "raCXMgD9PQTA"
      },
      "source": [
        "**First-Name:** Farzan\n",
        "\n",
        "**Last-Name:** Rahmani\n",
        "\n",
        "**Student-Id:** 403210725"
      ]
    },
    {
      "cell_type": "markdown",
      "metadata": {
        "id": "bpnC3Y8jqp5r"
      },
      "source": [
        "### Install & import"
      ]
    },
    {
      "cell_type": "code",
      "execution_count": 1,
      "metadata": {
        "colab": {
          "base_uri": "https://localhost:8080/"
        },
        "id": "vPvEa-47qUDo",
        "outputId": "ba3ba561-dfe8-4afa-e1e6-207889911613"
      },
      "outputs": [
        {
          "output_type": "stream",
          "name": "stdout",
          "text": [
            "Collecting pydicom\n",
            "  Downloading pydicom-3.0.1-py3-none-any.whl.metadata (9.4 kB)\n",
            "Downloading pydicom-3.0.1-py3-none-any.whl (2.4 MB)\n",
            "\u001b[?25l   \u001b[90m━━━━━━━━━━━━━━━━━━━━━━━━━━━━━━━━━━━━━━━━\u001b[0m \u001b[32m0.0/2.4 MB\u001b[0m \u001b[31m?\u001b[0m eta \u001b[36m-:--:--\u001b[0m\r\u001b[2K   \u001b[91m━━━━━━━━━━━━━━━━━━━━━━━━━━━━━━━━\u001b[0m\u001b[91m╸\u001b[0m\u001b[90m━━━━━━━\u001b[0m \u001b[32m1.9/2.4 MB\u001b[0m \u001b[31m58.9 MB/s\u001b[0m eta \u001b[36m0:00:01\u001b[0m\r\u001b[2K   \u001b[90m━━━━━━━━━━━━━━━━━━━━━━━━━━━━━━━━━━━━━━━━\u001b[0m \u001b[32m2.4/2.4 MB\u001b[0m \u001b[31m34.0 MB/s\u001b[0m eta \u001b[36m0:00:00\u001b[0m\n",
            "\u001b[?25hInstalling collected packages: pydicom\n",
            "Successfully installed pydicom-3.0.1\n"
          ]
        }
      ],
      "source": [
        "!pip install pydicom"
      ]
    },
    {
      "cell_type": "code",
      "execution_count": 2,
      "metadata": {
        "id": "ennZ7yrqqho0"
      },
      "outputs": [],
      "source": [
        "import pydicom"
      ]
    },
    {
      "cell_type": "markdown",
      "metadata": {
        "id": "1M1dNe2TqnCf"
      },
      "source": [
        "### Code"
      ]
    },
    {
      "cell_type": "markdown",
      "metadata": {
        "id": "wPN3Hck-2OIR"
      },
      "source": [
        "The following cell load one of pydicom's example image. Do the same for sample.DICOM image given to you (use 'dcmread'). Inspect different tags and answer the asked questions."
      ]
    },
    {
      "cell_type": "code",
      "execution_count": 3,
      "metadata": {
        "colab": {
          "base_uri": "https://localhost:8080/"
        },
        "id": "DUIN9peXquu5",
        "outputId": "be21623f-6d8d-4518-8293-d07bc95e18ba"
      },
      "outputs": [
        {
          "output_type": "execute_result",
          "data": {
            "text/plain": [
              "Dataset.file_meta -------------------------------\n",
              "(0002,0000) File Meta Information Group Length  UL: 192\n",
              "(0002,0001) File Meta Information Version       OB: b'\\x00\\x01'\n",
              "(0002,0002) Media Storage SOP Class UID         UI: CT Image Storage\n",
              "(0002,0003) Media Storage SOP Instance UID      UI: 1.3.6.1.4.1.5962.1.1.1.1.1.20040119072730.12322\n",
              "(0002,0010) Transfer Syntax UID                 UI: Explicit VR Little Endian\n",
              "(0002,0012) Implementation Class UID            UI: 1.3.6.1.4.1.5962.2\n",
              "(0002,0013) Implementation Version Name         SH: 'DCTOOL100'\n",
              "(0002,0016) Source Application Entity Title     AE: 'CLUNIE1'\n",
              "-------------------------------------------------\n",
              "(0008,0005) Specific Character Set              CS: 'ISO_IR 100'\n",
              "(0008,0008) Image Type                          CS: ['ORIGINAL', 'PRIMARY', 'AXIAL']\n",
              "(0008,0012) Instance Creation Date              DA: '20040119'\n",
              "(0008,0013) Instance Creation Time              TM: '072731'\n",
              "(0008,0014) Instance Creator UID                UI: 1.3.6.1.4.1.5962.3\n",
              "(0008,0016) SOP Class UID                       UI: CT Image Storage\n",
              "(0008,0018) SOP Instance UID                    UI: 1.3.6.1.4.1.5962.1.1.1.1.1.20040119072730.12322\n",
              "(0008,0020) Study Date                          DA: '20040119'\n",
              "(0008,0021) Series Date                         DA: '19970430'\n",
              "(0008,0022) Acquisition Date                    DA: '19970430'\n",
              "(0008,0023) Content Date                        DA: '19970430'\n",
              "(0008,0030) Study Time                          TM: '072730'\n",
              "(0008,0031) Series Time                         TM: '112749'\n",
              "(0008,0032) Acquisition Time                    TM: '112936'\n",
              "(0008,0033) Content Time                        TM: '113008'\n",
              "(0008,0050) Accession Number                    SH: ''\n",
              "(0008,0060) Modality                            CS: 'CT'\n",
              "(0008,0070) Manufacturer                        LO: 'GE MEDICAL SYSTEMS'\n",
              "(0008,0080) Institution Name                    LO: 'JFK IMAGING CENTER'\n",
              "(0008,0090) Referring Physician's Name          PN: ''\n",
              "(0008,0201) Timezone Offset From UTC            SH: '-0500'\n",
              "(0008,1010) Station Name                        SH: 'CT01_OC0'\n",
              "(0008,1030) Study Description                   LO: 'e+1'\n",
              "(0008,1090) Manufacturer's Model Name           LO: 'RHAPSODE'\n",
              "(0009,0010) Private Creator                     LO: 'GEMS_IDEN_01'\n",
              "(0009,1001) [Full fidelity]                     LO: 'GE_GENESIS_FF'\n",
              "(0009,1002) [Suite id]                          SH: 'CT01'\n",
              "(0009,1004) [Product id]                        SH: 'HiSpeed CT/i'\n",
              "(0009,1027) [Image actual date]                 SL: 862399669\n",
              "(0009,1030) [Service id]                        SH: ''\n",
              "(0009,1031) [Mobile location number]            SH: ''\n",
              "(0009,10E6) [Genesis Version - now]             SH: '05'\n",
              "(0009,10E7) [Exam Record checksum]              UL: 973283917\n",
              "(0009,10E9) [Actual series data time stamp]     SL: 862399669\n",
              "(0010,0010) Patient's Name                      PN: 'CompressedSamples^CT1'\n",
              "(0010,0020) Patient ID                          LO: '1CT1'\n",
              "(0010,0030) Patient's Birth Date                DA: ''\n",
              "(0010,0040) Patient's Sex                       CS: 'O'\n",
              "(0010,1002)  Other Patient IDs Sequence  2 item(s) ---- \n",
              "   (0010,0020) Patient ID                          LO: 'ABCD1234'\n",
              "   (0010,0022) Type of Patient ID                  CS: 'TEXT'\n",
              "   ---------\n",
              "   (0010,0020) Patient ID                          LO: '1234ABCD'\n",
              "   (0010,0022) Type of Patient ID                  CS: 'TEXT'\n",
              "   ---------\n",
              "(0010,1010) Patient's Age                       AS: '000Y'\n",
              "(0010,1030) Patient's Weight                    DS: '0.000000'\n",
              "(0010,21B0) Additional Patient History          LT: ''\n",
              "(0011,0010) Private Creator                     LO: 'GEMS_PATI_01'\n",
              "(0011,1010) [Patient Status]                    SS: 0\n",
              "(0018,0010) Contrast/Bolus Agent                LO: 'ISOVUE300/100'\n",
              "(0018,0022) Scan Options                        CS: 'HELICAL MODE'\n",
              "(0018,0050) Slice Thickness                     DS: '5.000000'\n",
              "(0018,0060) KVP                                 DS: '120'\n",
              "(0018,0088) Spacing Between Slices              DS: '5.000000'\n",
              "(0018,0090) Data Collection Diameter            DS: '480.000000'\n",
              "(0018,1020) Software Versions                   LO: '05'\n",
              "(0018,1040) Contrast/Bolus Route                LO: 'IV'\n",
              "(0018,1100) Reconstruction Diameter             DS: '338.671600'\n",
              "(0018,1110) Distance Source to Detector         DS: '1099.3100585938'\n",
              "(0018,1111) Distance Source to Patient          DS: '630.000000'\n",
              "(0018,1120) Gantry/Detector Tilt                DS: '0.000000'\n",
              "(0018,1130) Table Height                        DS: '133.699997'\n",
              "(0018,1150) Exposure Time                       IS: '1601'\n",
              "(0018,1151) X-Ray Tube Current                  IS: '170'\n",
              "(0018,1152) Exposure                            IS: '170'\n",
              "(0018,1160) Filter Type                         SH: 'LARGE BOWTIE FIL'\n",
              "(0018,1190) Focal Spot(s)                       DS: '0.700000'\n",
              "(0018,1210) Convolution Kernel                  SH: 'STANDARD'\n",
              "(0018,5100) Patient Position                    CS: 'FFS'\n",
              "(0019,0010) Private Creator                     LO: 'GEMS_ACQU_01'\n",
              "(0019,1002) [Detector Channel]                  SL: 912\n",
              "(0019,1003) [Cell number at Theta]              DS: '373.750000'\n",
              "(0019,1004) [Cell spacing]                      DS: '1.016600'\n",
              "(0019,100F) [Horiz. Frame of ref.]              DS: '955.799988'\n",
              "(0019,1011) [Series contrast]                   SS: 2\n",
              "(0019,1013) [Start number for baseline]         SS: 0\n",
              "(0019,1014) [End number for baseline]           SS: 0\n",
              "(0019,1015) [Start number for enhanced scans]   SS: 0\n",
              "(0019,1016) [End number for enhanced scans]     SS: 0\n",
              "(0019,1017) [Series plane]                      SS: 2\n",
              "(0019,1018) [First scan ras]                    LO: 'S'\n",
              "(0019,1019) [First scan location]               DS: '7.791870'\n",
              "(0019,101A) [Last scan ras]                     LO: 'I'\n",
              "(0019,101B) [Last scan loc]                     DS: '-320.197968'\n",
              "(0019,101E) [Display field of view]             DS: '0.000000'\n",
              "(0019,1023) [Table Speed [mm/rotation]]         DS: '5.000000'\n",
              "(0019,1024) [Mid Scan Time [sec]]               DS: '17.784578'\n",
              "(0019,1025) [Mid scan flag]                     SS: 1\n",
              "(0019,1026) [Tube Azimuth [degree]]             SL: 0\n",
              "(0019,1027) [Rotation Speed [msec]]             DS: '1.000000'\n",
              "(0019,102A) [x-ray On position]                 DS: '178.079926'\n",
              "(0019,102B) [x-ray Off position]                DS: '3994.299316'\n",
              "(0019,102C) [Number of triggers]                SL: 10431\n",
              "(0019,102E) [Angle of first view]               DS: '-718.079956'\n",
              "(0019,102F) [Trigger frequency]                 DS: '984.000000'\n",
              "(0019,1039) [SFOV Type]                         SS: 16\n",
              "(0019,1040) [Stat recon flag]                   SS: 0\n",
              "(0019,1041) [Compute type]                      SS: 1\n",
              "(0019,1042) [Segment Number]                    SS: 0\n",
              "(0019,1043) [Total Segments Required]           SS: 0\n",
              "(0019,1044) [Interscan delay]                   DS: '1.000000'\n",
              "(0019,1047) [View compression factor]           SS: 1\n",
              "(0019,104A) [Total no. of ref channels]         SS: 6\n",
              "(0019,104B) [Data size for scan data]           SL: 10431\n",
              "(0019,1052) [Recon post proc. Flag]             SS: 1\n",
              "(0019,1057) [CT water number]                   SS: -95\n",
              "(0019,1058) [CT bone number]                    SS: 0\n",
              "(0019,105E) [Number of channels (1...512)]      SL: 763\n",
              "(0019,105F) [Increment between channels]        SL: 1\n",
              "(0019,1060) [Starting view]                     SL: 1969\n",
              "(0019,1061) [Number of views]                   SL: 1576\n",
              "(0019,1062) [Increment between views]           SL: 1\n",
              "(0019,106A) [Dependent on #views processed]     SS: 4\n",
              "(0019,106B) [Field of view in detector cells]   SS: 852\n",
              "(0019,1070) [Value of back projection button]   SS: 1\n",
              "(0019,1071) [Set if fatq estimates were used]   SS: 0\n",
              "(0019,1072) [Z chan avg over views]             DS: '0.000000'\n",
              "(0019,1073) [Avg of left ref chans over views]  DS: '0.000000'\n",
              "(0019,1074) [Max left chan over views]          DS: '0.000000'\n",
              "(0019,1075) [Avg of right ref chans over views] DS: '0.000000'\n",
              "(0019,1076) [Max right chan over views]         DS: '0.000000'\n",
              "(0019,10DA) [Reference channel used]            SS: 0\n",
              "(0019,10DB) [Back projector coefficient]        DS: '0.000000'\n",
              "(0019,10DC) [Primary speed correction used]     SS: 1\n",
              "(0019,10DD) [Overrange correction used]         SS: 1\n",
              "(0019,10DE) [Dynamic Z alpha value]             DS: '0.000000'\n",
              "(0020,000D) Study Instance UID                  UI: 1.3.6.1.4.1.5962.1.2.1.20040119072730.12322\n",
              "(0020,000E) Series Instance UID                 UI: 1.3.6.1.4.1.5962.1.3.1.1.20040119072730.12322\n",
              "(0020,0010) Study ID                            SH: '1CT1'\n",
              "(0020,0011) Series Number                       IS: '1'\n",
              "(0020,0012) Acquisition Number                  IS: '2'\n",
              "(0020,0013) Instance Number                     IS: '1'\n",
              "(0020,0032) Image Position (Patient)            DS: [-158.135803, -179.035797, -75.699997]\n",
              "(0020,0037) Image Orientation (Patient)         DS: [1.000000, 0.000000, 0.000000, 0.000000, 1.000000, 0.000000]\n",
              "(0020,0052) Frame of Reference UID              UI: 1.3.6.1.4.1.5962.1.4.1.1.20040119072730.12322\n",
              "(0020,0060) Laterality                          CS: ''\n",
              "(0020,1040) Position Reference Indicator        LO: 'SN'\n",
              "(0020,1041) Slice Location                      DS: '-77.2040634155'\n",
              "(0020,4000) Image Comments                      LT: 'Uncompressed'\n",
              "(0021,0010) Private Creator                     LO: 'GEMS_RELA_01'\n",
              "(0021,1003) [Series from which Prescribed]      SS: 2\n",
              "(0021,1005) [Genesis Version - now]             SH: '05'\n",
              "(0021,1007) [Series Record checksum]            UL: 1605775145\n",
              "(0021,1015) [Unknown]                           US: 24078\n",
              "(0021,1016) [Unknown]                           SS: 2\n",
              "(0021,1018) [Genesis version - Now]             SH: '05'\n",
              "(0021,1019) [Acq recon record checksum]         UL: 750675506\n",
              "(0021,1037) [Screen Format]                     SS: 16\n",
              "(0021,104A) [Anatomical reference for scout]    LO: ''\n",
              "(0021,1090) [Tube focal spot position]          SS: 7400\n",
              "(0021,1091) [Biopsy position]                   SS: 0\n",
              "(0021,1092) [Biopsy T location]                 FL: 0.0\n",
              "(0021,1093) [Biopsy ref location]               FL: 0.0\n",
              "(0023,0010) Private Creator                     LO: 'GEMS_STDY_01'\n",
              "(0023,1070) [Start time(secs) in first axial]   FD: 862399761.111079\n",
              "(0023,1074) [No. of updates to header]          SL: 1\n",
              "(0023,107D) [Indicates study has complete info  SS: 0\n",
              "(0025,0010) Private Creator                     LO: 'GEMS_SERS_01'\n",
              "(0025,1006) [Last pulse sequence used]          SS: 0\n",
              "(0025,1007) [Images in Series]                  SL: 44\n",
              "(0025,1010) [Landmark Counter]                  SL: 0\n",
              "(0025,1011) [Number of Acquisitions]            SS: 0\n",
              "(0025,1017) [Series Complete Flag]              SL: 0\n",
              "(0025,1018) [Number of images archived]         SL: 0\n",
              "(0025,1019) [Last image number used]            SL: 4\n",
              "(0025,101A) [Primary Receiver Suite and Host]   SH: ''\n",
              "(0027,0010) Private Creator                     LO: 'GEMS_IMAG_01'\n",
              "(0027,1006) [Image archive flag]                SL: 1\n",
              "(0027,1010) [Scout Type]                        SS: 0\n",
              "(0027,101C) [Vma mamp]                          SL: 150\n",
              "(0027,101D) [Vma phase]                         SS: 1\n",
              "(0027,101E) [Vma mod]                           SL: 24\n",
              "(0027,101F) [Vma clip]                          SL: 129\n",
              "(0027,1020) [Smart scan ON/OFF flag]            SS: 1\n",
              "(0027,1030) [Foreign Image Revision]            SH: ''\n",
              "(0027,1035) [Plane Type]                        SS: 2\n",
              "(0027,1040) [RAS letter of image location]      SH: 'I'\n",
              "(0027,1041) [Image location]                    FL: -77.20406341552734\n",
              "(0027,1042) [Center R coord of plane image]     FL: -11.199999809265137\n",
              "(0027,1043) [Center A coord of plane image]     FL: 9.699999809265137\n",
              "(0027,1044) [Center S coord of plane image]     FL: -75.69999694824219\n",
              "(0027,1045) [Normal R coord]                    FL: 0.0\n",
              "(0027,1046) [Normal A coord]                    FL: 0.0\n",
              "(0027,1047) [Normal S coord]                    FL: -1.0\n",
              "(0027,1048) [R Coord of Top Right Corner]       FL: -180.53579711914062\n",
              "(0027,1049) [A Coord of Top Right Corner]       FL: 179.03579711914062\n",
              "(0027,104A) [S Coord of Top Right Corner]       FL: -75.69999694824219\n",
              "(0027,104B) [R Coord of Bottom Right Corner]    FL: -180.53579711914062\n",
              "(0027,104C) [A Coord of Bottom Right Corner]    FL: -159.63580322265625\n",
              "(0027,104D) [S Coord of Bottom Right Corner]    FL: -75.69999694824219\n",
              "(0027,1050) [Scan Start Location]               FL: -63.19999694824219\n",
              "(0027,1051) [Scan End Location]                 FL: -116.20304870605469\n",
              "(0027,1052) [RAS letter for side of image]      SH: 'L'\n",
              "(0027,1053) [RAS letter for anterior/posterior] SH: 'A'\n",
              "(0027,1054) [RAS letter for scout start loc]    SH: 'I'\n",
              "(0027,1055) [RAS letter for scout end loc]      SH: 'I'\n",
              "(0028,0002) Samples per Pixel                   US: 1\n",
              "(0028,0004) Photometric Interpretation          CS: 'MONOCHROME2'\n",
              "(0028,0010) Rows                                US: 128\n",
              "(0028,0011) Columns                             US: 128\n",
              "(0028,0030) Pixel Spacing                       DS: [0.661468, 0.661468]\n",
              "(0028,0100) Bits Allocated                      US: 16\n",
              "(0028,0101) Bits Stored                         US: 16\n",
              "(0028,0102) High Bit                            US: 15\n",
              "(0028,0103) Pixel Representation                US: 1\n",
              "(0028,0120) Pixel Padding Value                 SS: -2000\n",
              "(0028,1052) Rescale Intercept                   DS: '-1024'\n",
              "(0028,1053) Rescale Slope                       DS: '1'\n",
              "(0029,0010) Private Creator                     LO: 'GEMS_IMPS_01'\n",
              "(0029,1004) [Lower range of Pixels1]            SL: 0\n",
              "(0029,1005) [Lower range of Pixels1]            DS: '0.000000'\n",
              "(0029,1006) [Lower range of Pixels1]            DS: '0.000000'\n",
              "(0029,1007) [Lower range of Pixels1]            SL: 87\n",
              "(0029,1008) [Lower range of Pixels1]            SH: ''\n",
              "(0029,1009) [Lower range of Pixels1]            SH: ''\n",
              "(0029,100A) [Lower range of Pixels1]            SS: 764\n",
              "(0029,1026) [Version of the hdr struct]         SS: 2\n",
              "(0029,1034) [Advantage comp. Overflow]          SL: 0\n",
              "(0029,1035) [Advantage comp. Underflow]         SL: 0\n",
              "(0043,0010) Private Creator                     LO: 'GEMS_PARM_01'\n",
              "(0043,1010) [Window value]                      US: 400\n",
              "(0043,1011) [Total input views]                 US: 10431\n",
              "(0043,1012) [X-ray chain]                       SS: [14, 2, 3]\n",
              "(0043,1013) [Decon kernel parameters]           SS: [107, 21, 4, 2, 20]\n",
              "(0043,1014) [Calibration parameters]            SS: [4, 4, 5]\n",
              "(0043,1015) [Total output views]                SS: 10431\n",
              "(0043,1016) [Number of overranges]              SS: 0\n",
              "(0043,1017) [IBH image scale factors]           DS: '0.095000'\n",
              "(0043,1018) [BBH coefficients]                  DS: [0.085000, 1.102000, 0.095000]\n",
              "(0043,1019) [Number of BBH chains to blend]     SS: 350\n",
              "(0043,101A) [Starting channel number]           SL: 7\n",
              "(0043,101B) [Ppscan parameters]                 SS: [0, 0, 0, 0, 0]\n",
              "(0043,101C) [GE image integrity]                SS: 0\n",
              "(0043,101D) [Level value]                       SS: 40\n",
              "(0043,101E) [Delta Start Time [msec]]           DS: '2.000000'\n",
              "(0043,101F) [Max overranges in a view]          SL: 0\n",
              "(0043,1020) [Avg overranges all views]          DS: '0.000000'\n",
              "(0043,1021) [Corrected after glow terms]        SS: 0\n",
              "(0043,1025) [Reference channels]                SS: [1, 2, 3, 748, 749, 750]\n",
              "(0043,1026) [No views ref chans blocked]        US: [0, 1, 1, 0, 0, 0]\n",
              "(0043,1027) [Scan Pitch Ratio]                  SH: '/1.0:1'\n",
              "(0043,1028) [Unique image iden]                 OB: Array of 80 elements\n",
              "(0043,1029) [Histogram tables]                  OB: Array of 2068 elements\n",
              "(0043,102A) [User defined data]                 OB: Array of 40 elements\n",
              "(0043,102B) [Private Scan Options]              SS: [4, 4, 0, 0]\n",
              "(0043,1031) [Recon Center Coordinates]          DS: [-11.200000, 9.700000]\n",
              "(0043,1040) [Trigger on position]               FL: 178.07992553710938\n",
              "(0043,1041) [Degree of rotation]                FL: 3816.219482421875\n",
              "(0043,1042) [DAS trigger source]                SL: 0\n",
              "(0043,1043) [DAS fpa gain]                      SL: 0\n",
              "(0043,1044) [DAS output source]                 SL: 1\n",
              "(0043,1045) [DAS ad input]                      SL: 1\n",
              "(0043,1046) [DAS cal mode]                      SL: 3\n",
              "(0043,1047) [DAS cal frequency]                 SL: -1\n",
              "(0043,1048) [DAS reg xm]                        SL: 1\n",
              "(0043,1049) [DAS auto zero]                     SL: 0\n",
              "(0043,104A) [Starting channel of view]          SS: 1\n",
              "(0043,104B) [DAS xm pattern]                    SL: 0\n",
              "(0043,104C) [TGGC trigger mode]                 SS: 0\n",
              "(0043,104D) [Start scan to X-ray on delay]      FL: 0.0\n",
              "(0043,104E) [Duration of X-ray on]              FL: 10.60060977935791\n",
              "(7FE0,0010) Pixel Data                          OW: Array of 32768 elements\n",
              "(FFFC,FFFC) Data Set Trailing Padding           OB: Array of 126 elements"
            ]
          },
          "metadata": {},
          "execution_count": 3
        }
      ],
      "source": [
        "from pydicom import examples\n",
        "ds = examples.ct\n",
        "ds"
      ]
    },
    {
      "cell_type": "code",
      "source": [
        "import matplotlib.pyplot as plt\n",
        "\n",
        "# Load the DICOM file\n",
        "dicom_file = pydicom.dcmread(\"sample.DCM\")\n",
        "\n",
        "# Access the pixel data\n",
        "image_data = dicom_file.pixel_array\n",
        "\n",
        "# Display the image using matplotlib\n",
        "plt.imshow(image_data, cmap='gray')\n",
        "\n",
        "plt.title(\"DICOM Image\")\n",
        "plt.axis('off')  # No axes for the image\n",
        "plt.show()"
      ],
      "metadata": {
        "colab": {
          "base_uri": "https://localhost:8080/",
          "height": 428
        },
        "id": "9Hiyq3Ez3ngB",
        "outputId": "a1b18b85-ed50-44c5-de64-6ccaf932acb3"
      },
      "execution_count": 10,
      "outputs": [
        {
          "output_type": "display_data",
          "data": {
            "text/plain": [
              "<Figure size 640x480 with 1 Axes>"
            ],
            "image/png": "[encoded data removed]"
          },
          "metadata": {}
        }
      ]
    },
    {
      "cell_type": "code",
      "source": [
        "dicom_file.PatientName"
      ],
      "metadata": {
        "colab": {
          "base_uri": "https://localhost:8080/"
        },
        "id": "7c9ES52H4l7Q",
        "outputId": "6b725ac0-e782-4080-e527-caf5f0a7ce83"
      },
      "execution_count": 11,
      "outputs": [
        {
          "output_type": "execute_result",
          "data": {
            "text/plain": [
              "'MR/BRAIN/GRASE/1024'"
            ]
          },
          "metadata": {},
          "execution_count": 11
        }
      ]
    },
    {
      "cell_type": "code",
      "source": [
        "dicom_file.PatientID"
      ],
      "metadata": {
        "colab": {
          "base_uri": "https://localhost:8080/",
          "height": 36
        },
        "id": "3iogTziK4p0J",
        "outputId": "0c8a9bdc-276d-4589-a13d-69c5b5afef46"
      },
      "execution_count": 12,
      "outputs": [
        {
          "output_type": "execute_result",
          "data": {
            "text/plain": [
              "'7'"
            ],
            "application/vnd.google.colaboratory.intrinsic+json": {
              "type": "string"
            }
          },
          "metadata": {},
          "execution_count": 12
        }
      ]
    },
    {
      "cell_type": "code",
      "source": [
        "dicom_file.PatientBirthDate"
      ],
      "metadata": {
        "colab": {
          "base_uri": "https://localhost:8080/",
          "height": 36
        },
        "id": "lD0OBU7e4tSn",
        "outputId": "c47b08dc-2b76-4298-b73c-8da8ac2c82ac"
      },
      "execution_count": 13,
      "outputs": [
        {
          "output_type": "execute_result",
          "data": {
            "text/plain": [
              "'19010101'"
            ],
            "application/vnd.google.colaboratory.intrinsic+json": {
              "type": "string"
            }
          },
          "metadata": {},
          "execution_count": 13
        }
      ]
    },
    {
      "cell_type": "code",
      "source": [
        "# Create a copy of the DICOM file for anonymization\n",
        "anonymized_dicom = dicom_file.copy()\n",
        "\n",
        "# Remove or anonymize sensitive tags\n",
        "anonymized_dicom.PatientName = \"Anonymous\"\n",
        "anonymized_dicom.PatientID = \"00000000\"\n",
        "anonymized_dicom.PatientBirthDate = \"\"\n",
        "\n",
        "# Save the anonymized DICOM file\n",
        "anonymized_dicom.save_as(\"anonymized_sample.DCM\")\n",
        "\n",
        "print(\"DICOM file anonymized successfully!\")"
      ],
      "metadata": {
        "colab": {
          "base_uri": "https://localhost:8080/"
        },
        "id": "5kOv6uKM30kP",
        "outputId": "3f26c46c-d91f-4239-d685-1b835a04e4b6"
      },
      "execution_count": 16,
      "outputs": [
        {
          "output_type": "stream",
          "name": "stdout",
          "text": [
            "DICOM file anonymized successfully!\n"
          ]
        }
      ]
    },
    {
      "cell_type": "code",
      "source": [
        "anonymized_dicom.PatientName"
      ],
      "metadata": {
        "colab": {
          "base_uri": "https://localhost:8080/"
        },
        "id": "3ptYsr174_N3",
        "outputId": "6c04e164-4685-4f8a-ab1d-693ad5f48dd9"
      },
      "execution_count": 17,
      "outputs": [
        {
          "output_type": "execute_result",
          "data": {
            "text/plain": [
              "'Anonymous'"
            ]
          },
          "metadata": {},
          "execution_count": 17
        }
      ]
    },
    {
      "cell_type": "code",
      "source": [
        "anonymized_dicom.PatientID"
      ],
      "metadata": {
        "colab": {
          "base_uri": "https://localhost:8080/",
          "height": 36
        },
        "id": "kpBjPTWA5Ne3",
        "outputId": "38cb7b17-d9dd-41e9-d89a-2840ccc7af56"
      },
      "execution_count": 18,
      "outputs": [
        {
          "output_type": "execute_result",
          "data": {
            "text/plain": [
              "'00000000'"
            ],
            "application/vnd.google.colaboratory.intrinsic+json": {
              "type": "string"
            }
          },
          "metadata": {},
          "execution_count": 18
        }
      ]
    },
    {
      "cell_type": "code",
      "source": [
        "anonymized_dicom.PatientBirthDate"
      ],
      "metadata": {
        "colab": {
          "base_uri": "https://localhost:8080/",
          "height": 36
        },
        "id": "rk7jbCMe5Prw",
        "outputId": "5d709e00-0f81-419e-dfe9-b695a28784e9"
      },
      "execution_count": 19,
      "outputs": [
        {
          "output_type": "execute_result",
          "data": {
            "text/plain": [
              "''"
            ],
            "application/vnd.google.colaboratory.intrinsic+json": {
              "type": "string"
            }
          },
          "metadata": {},
          "execution_count": 19
        }
      ]
    }
  ],
  "metadata": {
    "colab": {
      "provenance": []
    },
    "kernelspec": {
      "display_name": "Python 3",
      "name": "python3"
    },
    "language_info": {
      "name": "python"
    }
  },
  "nbformat": 4,
  "nbformat_minor": 0
}