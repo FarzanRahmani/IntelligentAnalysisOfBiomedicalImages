{
 "cells": [
  {
   "cell_type": "code",
   "execution_count": 2,
   "metadata": {},
   "outputs": [
    {
     "name": "stdout",
     "output_type": "stream",
     "text": [
      "Linked metadata saved at: linked_metadata.csv\n"
     ]
    },
    {
     "name": "stderr",
     "output_type": "stream",
     "text": [
      "C:\\Users\\Ali\\AppData\\Local\\Packages\\PythonSoftwareFoundation.Python.3.11_qbz5n2kfra8p0\\LocalCache\\local-packages\\Python311\\site-packages\\openpyxl\\worksheet\\_reader.py:329: UserWarning: Unknown extension is not supported and will be removed\n",
      "  warn(msg)\n"
     ]
    }
   ],
   "source": [
    "import pandas as pd\n",
    "\n",
    "# Load the metadata files\n",
    "metadata_xlsx_path = \"TCIA_LGG_cases_159.xlsx\"  # Contains labels (1p/19q status)\n",
    "metadata_csv_path = \"metadata.csv\"  # Contains MRI file locations\n",
    "\n",
    "metadata_xlsx_df = pd.read_excel(metadata_xlsx_path)\n",
    "metadata_csv_df = pd.read_csv(metadata_csv_path)\n",
    "\n",
    "# Standardize column names for merging\n",
    "metadata_xlsx_df.rename(columns={'Filename': 'Subject ID'}, inplace=True)\n",
    "\n",
    "# Merge metadata based on 'Subject ID'\n",
    "merged_metadata_df = pd.merge(metadata_csv_df, metadata_xlsx_df, on=\"Subject ID\", how=\"inner\")\n",
    "\n",
    "# Save the linked metadata for further processing\n",
    "linked_metadata_path = \"linked_metadata.csv\"\n",
    "merged_metadata_df.to_csv(linked_metadata_path, index=False)\n",
    "\n",
    "print(f\"Linked metadata saved at: {linked_metadata_path}\")"
   ]
  },
  {
   "cell_type": "code",
   "execution_count": null,
   "metadata": {},
   "outputs": [],
   "source": []
  }
 ],
 "metadata": {
  "kernelspec": {
   "display_name": "Python 3",
   "language": "python",
   "name": "python3"
  },
  "language_info": {
   "codemirror_mode": {
    "name": "ipython",
    "version": 3
   },
   "file_extension": ".py",
   "mimetype": "text/x-python",
   "name": "python",
   "nbconvert_exporter": "python",
   "pygments_lexer": "ipython3",
   "version": "3.11.9"
  }
 },
 "nbformat": 4,
 "nbformat_minor": 2
}
